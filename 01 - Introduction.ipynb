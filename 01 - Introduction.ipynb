{
 "cells": [
  {
   "cell_type": "markdown",
   "metadata": {
    "collapsed": false
   },
   "source": [
    "# Fast Agglomerative Clustering\n",
    "\n",
    "## Introduction\n",
    "\n",
    "In United States Patent application [14/718,804](https://www.google.com/patents/US20160342677) my former colleague Danny Scott and I disclose a \"System and Method for Agglomerative Clustering.\"  At the time we were employed by Dell and the patent belonged to them; since then I left the company and the patent, along with our business unit, was sold.  I have no more rights to this intellectual property than you do.  But expository writing is among the statutory fair uses of patent disclosures and that's what I aim to do here.\n",
    "\n",
    "By law, the text of a patent application must describe the invention in enough detail that \"one skilled in the art\" can with reasonable effort put the invention to use.  But other requirements of the application process require that the language be tortured to the edge of incomprehensibility.  Go ahead, read some of it.  I'll wait.\n",
    "\n",
    "Agglomerative or \"bottom-up\" clustering is an unsupervised machine learning technique used principally in exploratory analysis of experimental and quality control data.  Unsupervised just means that the algorithm works on data that are not \"flagged\" with respect to the desired outcomes.  Agglomerative clustering is particularly well suited to exploratory analysis because the output is not a single \"best\" clustering but a tree of clusterings at different levels of detail."
   ]
  },
  {
   "cell_type": "markdown",
   "metadata": {
    "collapsed": true
   },
   "source": [
    "![heatmap](http://genomicsclass.github.io/book/pages/figure/clustering_and_heatmaps-heatmap.2-1.png) An example of a \"heatmap\" application of agglomerative clustering.  The image, from a [tutorial](http://genomicsclass.github.io/book/pages/clustering_and_heatmaps.html) by  Rafael Irizarry and Michael Love, combines two hierarcical clustering results as its axes and a third datum determining the color.  It is said to show \"good separation\" and is fairly typical of contemporary applications in the biological sciences."
   ]
  },
  {
   "cell_type": "code",
   "execution_count": null,
   "metadata": {
    "collapsed": true
   },
   "outputs": [],
   "source": []
  }
 ],
 "metadata": {
  "anaconda-cloud": {},
  "kernelspec": {
   "display_name": "Python 3",
   "language": "python",
   "name": "python3"
  },
  "language_info": {
   "codemirror_mode": {
    "name": "ipython",
    "version": 3
   },
   "file_extension": ".py",
   "mimetype": "text/x-python",
   "name": "python",
   "nbconvert_exporter": "python",
   "pygments_lexer": "ipython3",
   "version": "3.5.2"
  }
 },
 "nbformat": 4,
 "nbformat_minor": 1
}
